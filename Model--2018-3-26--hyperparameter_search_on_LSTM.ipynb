{
 "cells": [
  {
   "cell_type": "code",
   "execution_count": 1,
   "metadata": {},
   "outputs": [
    {
     "name": "stderr",
     "output_type": "stream",
     "text": [
      "/usr/local/anaconda3/envs/ekg_network/lib/python3.6/site-packages/h5py/__init__.py:36: FutureWarning: Conversion of the second argument of issubdtype from `float` to `np.floating` is deprecated. In future, it will be treated as `np.float64 == np.dtype(float).type`.\n",
      "  from ._conv import register_converters as _register_converters\n",
      "Using TensorFlow backend.\n"
     ]
    }
   ],
   "source": [
    "import time\n",
    "\n",
    "import keras\n",
    "import keras.backend as K\n",
    "from keras.optimizers import Adam\n",
    "import matplotlib.pyplot as plt\n",
    "import numpy as np\n",
    "import pandas as pd\n",
    "\n",
    "from keras.models import Sequential\n",
    "from keras.layers import Dense, Activation, Input, LSTM\n",
    "\n",
    "from ptbdb_cache import load_records"
   ]
  },
  {
   "cell_type": "code",
   "execution_count": 2,
   "metadata": {},
   "outputs": [
    {
     "name": "stdout",
     "output_type": "stream",
     "text": [
      "loading 549 cached ptbdb records\n",
      "finished loading raw records\n",
      "X shape: (549, 120012, 15)\n",
      "\n",
      "Y value counts: Myocardial infarction     368\n",
      "Healthy control            80\n",
      "n/a                        27\n",
      "Cardiomyopathy             17\n",
      "Bundle branch block        17\n",
      "Dysrhythmia                16\n",
      "Hypertrophy                 7\n",
      "Valvular heart disease      6\n",
      "Myocarditis                 4\n",
      "Stable angina               2\n",
      "Heart failure (NYHA 3)      1\n",
      "Unstable angina             1\n",
      "Heart failure (NYHA 4)      1\n",
      "Palpitation                 1\n",
      "Heart failure (NYHA 2)      1\n",
      "dtype: int64\n",
      "\n",
      "number MIs: 368\n",
      "Y shape: (549, 1)\n",
      "X is properly padded: True\n",
      "X_train length:  385\n",
      "X_dev length:  82\n",
      "X_test length:  82\n"
     ]
    }
   ],
   "source": [
    "def pad_sequence(sequence, max_len):\n",
    "    pad_width = ((0,max_len - sequence.shape[0]), (0, 0))\n",
    "    \n",
    "    return np.pad(sequence, pad_width, mode='constant', constant_values=0)\n",
    "\n",
    "def train_dev_test_set_split(X, Y, fraction=0.15):\n",
    "\n",
    "    n_holdouts = int(fraction * Y.shape[0])\n",
    "    \n",
    "    indices = np.arange(Y.shape[0])\n",
    "    \n",
    "    np.random.shuffle(indices)\n",
    "    X = X[indices]\n",
    "    Y = Y[indices]\n",
    "    \n",
    "    X_train = X[:-2 * n_holdouts]\n",
    "    X_dev = X[-2 * n_holdouts: -n_holdouts]\n",
    "    X_test = X[-n_holdouts:]\n",
    "    \n",
    "    Y_train = Y[:-2 * n_holdouts]\n",
    "    Y_dev = Y[-2 * n_holdouts: -n_holdouts]\n",
    "    Y_test = Y[-n_holdouts:]\n",
    "    \n",
    "    return X_train, X_dev, X_test, Y_train, Y_dev, Y_test\n",
    "\n",
    "def get_train_dev_test_sets():\n",
    "    raw_records = load_records()\n",
    "    print('finished loading raw records')\n",
    "    \n",
    "    records = list(raw_records.values())\n",
    "    X, Y = zip(*records)\n",
    "\n",
    "    max_len = max(k.shape[0] for k in X)\n",
    "    X = np.stack([pad_sequence(xi, max_len) for xi in X])\n",
    "\n",
    "    print('X shape: {}\\n'.format(X.shape))\n",
    "\n",
    "    print('Y value counts: {}\\n'.format(pd.Series(Y).value_counts()))\n",
    "    Y = np.array([1 if r == 'Myocardial infarction' else 0 for r in Y ]).reshape(-1, 1)\n",
    "    print('number MIs: {}'.format(np.sum(Y)))\n",
    "    print('Y shape: {}'.format(Y.shape))\n",
    "\n",
    "    X_train, X_dev, X_test, Y_train, Y_dev, Y_test = train_dev_test_set_split(X, Y)\n",
    "\n",
    "    print('X is properly padded: {}'.format(min(k.shape[0] for k in X_train) == max_len))\n",
    "    print('X_train length: ', len(X_train))\n",
    "    print('X_dev length: ', len(X_dev))\n",
    "    print('X_test length: ', len(X_test))\n",
    "\n",
    "    return X_train, X_dev, X_test, Y_train, Y_dev, Y_test\n",
    "\n",
    "X_train, X_dev, X_test, Y_train, Y_dev, Y_test = get_train_dev_test_sets()"
   ]
  },
  {
   "cell_type": "code",
   "execution_count": 3,
   "metadata": {
    "collapsed": true
   },
   "outputs": [],
   "source": [
    "def f1_score(y_true, y_pred):\n",
    "\n",
    "    # Count positive samples.\n",
    "    c1 = K.sum(K.round(K.clip(y_true * y_pred, 0, 1)))\n",
    "    c2 = K.sum(K.round(K.clip(y_pred, 0, 1)))\n",
    "    c3 = K.sum(K.round(K.clip(y_true, 0, 1)))\n",
    "\n",
    "    # If there are no true samples, fix the F1 score at 0.\n",
    "    if c3 == 0:\n",
    "        return 0\n",
    "\n",
    "    # How many selected items are relevant?\n",
    "    precision = c1 / c2\n",
    "\n",
    "    # How many relevant items are selected?\n",
    "    recall = c1 / c3\n",
    "\n",
    "    # Calculate f1_score\n",
    "    f1_score = 2 * (precision * recall) / (precision + recall)\n",
    "    return f1_score "
   ]
  },
  {
   "cell_type": "code",
   "execution_count": 4,
   "metadata": {},
   "outputs": [
    {
     "data": {
      "text/plain": [
       "{'batch_size': 112,\n",
       " 'learning_rate': 0.01309843022302107,\n",
       " 'num_hidden_units': 80}"
      ]
     },
     "execution_count": 4,
     "metadata": {},
     "output_type": "execute_result"
    }
   ],
   "source": [
    "def get_random_hyperparameters():\n",
    "    return {\n",
    "        'num_hidden_units': np.random.randint(4, 100),\n",
    "        'batch_size': np.random.randint(10, int(len(X_train) / 2)),\n",
    "        'learning_rate': 10**(-4 * np.random.random())\n",
    "    }\n",
    "\n",
    "get_random_hyperparameters()"
   ]
  },
  {
   "cell_type": "markdown",
   "metadata": {},
   "source": [
    "metrics to collect: \n",
    "- history (with loss, accuracy, f1 score)\n",
    "- time to run 10 epochs\n",
    "- metrics on dev set"
   ]
  },
  {
   "cell_type": "code",
   "execution_count": 5,
   "metadata": {
    "collapsed": true
   },
   "outputs": [],
   "source": [
    "\n",
    "def run_model_with_random_hyperparameters(X_train, Y_train, X_dev, Y_dev, n_epochs=5):\n",
    "    results = {}\n",
    "    \n",
    "    hyperparameters = get_random_hyperparameters()\n",
    "    print('trying parameters: {}'.format(hyperparameters))\n",
    "    results['hyperparameters'] = hyperparameters\n",
    "    \n",
    "    batch_size = hyperparameters['batch_size']\n",
    "    num_hidden_units = hyperparameters['num_hidden_units']\n",
    "    learning_rate = hyperparameters['learning_rate']\n",
    "    \n",
    "    # Build model\n",
    "    optimizer = Adam(lr=learning_rate)\n",
    "    \n",
    "    model = Sequential([\n",
    "        LSTM(num_hidden_units, input_shape=X_train[0].shape),\n",
    "        Dense(1, activation='sigmoid'),\n",
    "    ])\n",
    "\n",
    "    model.compile(optimizer=optimizer,\n",
    "                  loss='binary_crossentropy',\n",
    "                  metrics=['accuracy', f1_score])\n",
    "    \n",
    "    results['model'] = model\n",
    "    \n",
    "    \n",
    "    # Train model\n",
    "    t_before = time.time()\n",
    "    \n",
    "    history = model.fit(\n",
    "        X_train, Y_train, \n",
    "        batch_size=batch_size, \n",
    "        verbose=2, \n",
    "        epochs=n_epochs,\n",
    "    )\n",
    "    results['history'] = history\n",
    "    \n",
    "    t_after = time.time()\n",
    "    total_time = t_after - t_before\n",
    "    results['training_time'] = total_time\n",
    "    \n",
    "    # Test model\n",
    "    results['train_metrics'] = model.evaluate(X_train, Y_train, batch_size=batch_size)\n",
    "    results['dev_metrics'] = model.evaluate(X_dev, Y_dev, batch_size=batch_size)\n",
    "    \n",
    "    # Print results\n",
    "    print('metrics names: ', model.metrics_names)\n",
    "    print('train_scores: ', results['train_metrics'])\n",
    "    print('dev_scores: ', results['dev_metrics'])\n",
    "   \n",
    "    plt.figure()\n",
    "    plt.plot(history.history['loss'])\n",
    "    plt.title(hyperparameters)\n",
    "    plt.show()\n",
    "    \n",
    "    return results\n",
    "\n",
    "\n"
   ]
  },
  {
   "cell_type": "code",
   "execution_count": null,
   "metadata": {},
   "outputs": [
    {
     "name": "stdout",
     "output_type": "stream",
     "text": [
      "\n",
      "testing model 1 of 5\n",
      "trying parameters: {'num_hidden_units': 9, 'batch_size': 158, 'learning_rate': 0.0021391288994263907}\n",
      "Epoch 1/5\n",
      " - 431s - loss: 0.7055 - acc: 0.4961 - f1_score: 0.4934\n",
      "Epoch 2/5\n",
      " - 448s - loss: 0.6957 - acc: 0.6987 - f1_score: 0.8132\n",
      "Epoch 3/5\n",
      " - 443s - loss: 0.6870 - acc: 0.7039 - f1_score: 0.8154\n",
      "Epoch 4/5\n",
      " - 461s - loss: 0.6782 - acc: 0.7117 - f1_score: 0.8189\n",
      "Epoch 5/5\n",
      " - 450s - loss: 0.6693 - acc: 0.7221 - f1_score: 0.8252\n",
      "385/385 [==============================] - 103s 266ms/step\n",
      "82/82 [==============================] - 26s 311ms/step\n",
      "metrics names:  ['loss', 'acc', 'f1_score']\n",
      "train_scores:  [0.6629810652175507, 0.7298701179492009, 0.8306371371467393]\n",
      "dev_scores:  [0.673202633857727, 0.6829268336296082, 0.796875]\n"
     ]
    },
    {
     "data": {
      "image/png": "[encoded data removed]",
      "text/plain": [
       "<Figure size 432x288 with 1 Axes>"
      ]
     },
     "metadata": {},
     "output_type": "display_data"
    },
    {
     "name": "stdout",
     "output_type": "stream",
     "text": [
      "\n",
      "testing model 2 of 5\n",
      "trying parameters: {'num_hidden_units': 70, 'batch_size': 129, 'learning_rate': 0.00020906765266020852}\n",
      "Epoch 1/5\n"
     ]
    }
   ],
   "source": [
    "N_MODELS = 5\n",
    "N_EPOCHS = 5\n",
    "\n",
    "model_test_results = []\n",
    "for i in range(N_MODELS):\n",
    "    print('\\ntesting model {} of {}'.format(i + 1, N_MODELS))\n",
    "    \n",
    "    try:\n",
    "        model_result = run_model_with_random_hyperparameters(\n",
    "            X_train, Y_train, X_dev, Y_dev, \n",
    "            n_epochs=N_EPOCHS\n",
    "        )\n",
    "\n",
    "        model_test_results.append(model_result)\n",
    "    except KeyboardInterrupt:\n",
    "        print('Test Interrupted.')\n",
    "        break\n",
    "    \n"
   ]
  },
  {
   "cell_type": "code",
   "execution_count": null,
   "metadata": {
    "collapsed": true
   },
   "outputs": [],
   "source": []
  }
 ],
 "metadata": {
  "kernelspec": {
   "display_name": "Python 3",
   "language": "python",
   "name": "python3"
  },
  "language_info": {
   "codemirror_mode": {
    "name": "ipython",
    "version": 3
   },
   "file_extension": ".py",
   "mimetype": "text/x-python",
   "name": "python",
   "nbconvert_exporter": "python",
   "pygments_lexer": "ipython3",
   "version": "3.6.3"
  }
 },
 "nbformat": 4,
 "nbformat_minor": 2
}
